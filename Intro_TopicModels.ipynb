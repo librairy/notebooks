{
  "nbformat": 4,
  "nbformat_minor": 0,
  "metadata": {
    "colab": {
      "name": "Intro_TopicModels.ipynb",
      "version": "0.3.2",
      "provenance": [],
      "collapsed_sections": [],
      "toc_visible": true,
      "include_colab_link": true
    },
    "kernelspec": {
      "name": "python3",
      "display_name": "Python 3"
    }
  },
  "cells": [
    {
      "cell_type": "markdown",
      "metadata": {
        "id": "view-in-github",
        "colab_type": "text"
      },
      "source": [
        "[![Open In Colab](https://colab.research.google.com/assets/colab-badge.svg)](https://colab.research.google.com/github/librairy/notebooks/blob/master/Intro_TopicModels.ipynb)"
      ]
    },
    {
      "metadata": {
        "id": "AVx3oh5JCi_F",
        "colab_type": "text"
      },
      "cell_type": "markdown",
      "source": [
        "This Google Colab Notebook serves as an introduction to Probabilistic Topic Models. \n",
        "\n",
        "Textual data can be loaded from a Google Sheet and topics derived from  LDA can be generated. \n",
        "\n",
        "First, it is necessary to indicate the training google sheet and the number of words to show per topic.\n"
      ]
    },
    {
      "metadata": {
        "id": "UcubynMaDbzt",
        "colab_type": "code",
        "colab": {}
      },
      "cell_type": "code",
      "source": [
        "#@title Google Colab Authentication\n",
        "!pip install --upgrade -q gspread\n",
        "#!pip install -q gensim\n",
        "\n",
        "from google.colab import auth\n",
        "auth.authenticate_user()\n",
        "\n",
        "import gspread\n",
        "from oauth2client.client import GoogleCredentials\n",
        "\n",
        "from sklearn.feature_extraction.text import TfidfVectorizer, CountVectorizer\n",
        "from sklearn.decomposition import NMF, LatentDirichletAllocation\n",
        "import numpy as np\n",
        "\n",
        "\n"
      ],
      "execution_count": 0,
      "outputs": []
    },
    {
      "metadata": {
        "id": "VXu9rcR2Dmz7",
        "colab_type": "code",
        "outputId": "ae3da530-7cf0-40a4-971e-83d9978af8c1",
        "colab": {
          "base_uri": "https://localhost:8080/",
          "height": 359
        }
      },
      "cell_type": "code",
      "source": [
        "#@title Load and preview data from a Google Sheet\n",
        "\n",
        "corpus = 'texts' #@param {type:\"string\"}\n",
        "preview = 10 #@param {type:\"integer\"}\n",
        "\n",
        "\n",
        "gc = gspread.authorize(GoogleCredentials.get_application_default())\n",
        "\n",
        "worksheet = gc.open(corpus).sheet1\n",
        "\n",
        "# get_all_values gives a list of rows.\n",
        "rows = worksheet.get_all_values()\n",
        "\n",
        "# convert the 3rd column values to a list\n",
        "documents = []\n",
        "for row in rows[1:]:\n",
        "  documents.append(row[2])\n",
        "  \n",
        "#print(documents)\n",
        "\n",
        "# Convert to a DataFrame and render.\n",
        "import pandas as pd\n",
        "dataset_df = pd.DataFrame.from_records(rows)\n",
        "dataset_df.head(n=preview)\n",
        "\n"
      ],
      "execution_count": 111,
      "outputs": [
        {
          "output_type": "execute_result",
          "data": {
            "text/html": [
              "<div>\n",
              "<style scoped>\n",
              "    .dataframe tbody tr th:only-of-type {\n",
              "        vertical-align: middle;\n",
              "    }\n",
              "\n",
              "    .dataframe tbody tr th {\n",
              "        vertical-align: top;\n",
              "    }\n",
              "\n",
              "    .dataframe thead th {\n",
              "        text-align: right;\n",
              "    }\n",
              "</style>\n",
              "<table border=\"1\" class=\"dataframe\">\n",
              "  <thead>\n",
              "    <tr style=\"text-align: right;\">\n",
              "      <th></th>\n",
              "      <th>0</th>\n",
              "      <th>1</th>\n",
              "      <th>2</th>\n",
              "    </tr>\n",
              "  </thead>\n",
              "  <tbody>\n",
              "    <tr>\n",
              "      <th>0</th>\n",
              "      <td>EU100000</td>\n",
              "      <td>Visual object population codes  relating human...</td>\n",
              "      <td>Two major challenges facing systems neuroscien...</td>\n",
              "    </tr>\n",
              "    <tr>\n",
              "      <th>1</th>\n",
              "      <td>EU100001</td>\n",
              "      <td>New Opportunities for Research Funding Agency ...</td>\n",
              "      <td>NORFACE is a co-ordinated common action of fif...</td>\n",
              "    </tr>\n",
              "    <tr>\n",
              "      <th>2</th>\n",
              "      <td>EU100002</td>\n",
              "      <td>USA and Europe Cooperation in Mini UAVs</td>\n",
              "      <td>Unmanned Aerial Systems have been an active ar...</td>\n",
              "    </tr>\n",
              "    <tr>\n",
              "      <th>3</th>\n",
              "      <td>EU100003</td>\n",
              "      <td>Sustainable Infrastructure for Resilient Urban...</td>\n",
              "      <td>This fellowship aim is to identify how the use...</td>\n",
              "    </tr>\n",
              "    <tr>\n",
              "      <th>4</th>\n",
              "      <td>EU100004</td>\n",
              "      <td>Modelling star formation in the local universe</td>\n",
              "      <td>The goal of this proposal is to revolutionize ...</td>\n",
              "    </tr>\n",
              "    <tr>\n",
              "      <th>5</th>\n",
              "      <td>EU100005</td>\n",
              "      <td>Coherent spin manipulation in hybrid nanostruc...</td>\n",
              "      <td>The rapid development of novel nanoelectronic ...</td>\n",
              "    </tr>\n",
              "    <tr>\n",
              "      <th>6</th>\n",
              "      <td>EU100006</td>\n",
              "      <td>Stochastic Modeling of Spatially Extended Ecos...</td>\n",
              "      <td>The coupling between ecosystems and the climat...</td>\n",
              "    </tr>\n",
              "    <tr>\n",
              "      <th>7</th>\n",
              "      <td>EU100007</td>\n",
              "      <td>Secure Multiparty Computation in the von Neuma...</td>\n",
              "      <td>The ultimate aim of this project is to design ...</td>\n",
              "    </tr>\n",
              "    <tr>\n",
              "      <th>8</th>\n",
              "      <td>EU100008</td>\n",
              "      <td>Infrastructures for Community-Based Data Manag...</td>\n",
              "      <td>Structured data is increasingly created, trans...</td>\n",
              "    </tr>\n",
              "    <tr>\n",
              "      <th>9</th>\n",
              "      <td>EU100009</td>\n",
              "      <td>Reducing Environmental Footprint based on Mult...</td>\n",
              "      <td>Reduction of CO2 emissions is the great challe...</td>\n",
              "    </tr>\n",
              "  </tbody>\n",
              "</table>\n",
              "</div>"
            ],
            "text/plain": [
              "          0                                                  1  \\\n",
              "0  EU100000  Visual object population codes  relating human...   \n",
              "1  EU100001  New Opportunities for Research Funding Agency ...   \n",
              "2  EU100002            USA and Europe Cooperation in Mini UAVs   \n",
              "3  EU100003  Sustainable Infrastructure for Resilient Urban...   \n",
              "4  EU100004     Modelling star formation in the local universe   \n",
              "5  EU100005  Coherent spin manipulation in hybrid nanostruc...   \n",
              "6  EU100006  Stochastic Modeling of Spatially Extended Ecos...   \n",
              "7  EU100007  Secure Multiparty Computation in the von Neuma...   \n",
              "8  EU100008  Infrastructures for Community-Based Data Manag...   \n",
              "9  EU100009  Reducing Environmental Footprint based on Mult...   \n",
              "\n",
              "                                                   2  \n",
              "0  Two major challenges facing systems neuroscien...  \n",
              "1  NORFACE is a co-ordinated common action of fif...  \n",
              "2  Unmanned Aerial Systems have been an active ar...  \n",
              "3  This fellowship aim is to identify how the use...  \n",
              "4  The goal of this proposal is to revolutionize ...  \n",
              "5  The rapid development of novel nanoelectronic ...  \n",
              "6  The coupling between ecosystems and the climat...  \n",
              "7  The ultimate aim of this project is to design ...  \n",
              "8  Structured data is increasingly created, trans...  \n",
              "9  Reduction of CO2 emissions is the great challe...  "
            ]
          },
          "metadata": {
            "tags": []
          },
          "execution_count": 111
        }
      ]
    },
    {
      "metadata": {
        "id": "ChKtbgQldfTf",
        "colab_type": "text"
      },
      "cell_type": "markdown",
      "source": [
        "Tokenize input data:\n"
      ]
    },
    {
      "metadata": {
        "id": "BwiEHyUEdhOl",
        "colab_type": "code",
        "outputId": "f24b7284-b9f0-4ee4-cc0a-3b870fccc89d",
        "colab": {
          "base_uri": "https://localhost:8080/",
          "height": 34
        }
      },
      "cell_type": "code",
      "source": [
        "#@title Tokenization\n",
        "\n",
        "tf_vectorizer = CountVectorizer(\n",
        "    stop_words=None,\n",
        "    min_df=2,\n",
        "    max_df=0.95,\n",
        "    lowercase=False,\n",
        "    max_features=None,\n",
        "    ngram_range=(1,1),\n",
        "    analyzer = 'word'\n",
        ")\n",
        "tf = tf_vectorizer.fit_transform(documents)\n",
        "tf_feature_names = tf_vectorizer.get_feature_names()\n",
        "vocab = tf_vectorizer.vocabulary_\n",
        "\n",
        "print(\"Vocabulary Size: \", len(tf_feature_names))"
      ],
      "execution_count": 112,
      "outputs": [
        {
          "output_type": "stream",
          "text": [
            "Vocabulary Size:  2077\n"
          ],
          "name": "stdout"
        }
      ]
    },
    {
      "metadata": {
        "id": "lmTsfABkDzF2",
        "colab_type": "text"
      },
      "cell_type": "markdown",
      "source": [
        "Now it's time to build a topic model by setting values for:\n",
        "- number of topics\n",
        "- alpha\n",
        "- beta"
      ]
    },
    {
      "metadata": {
        "id": "BP5oPuB9GPfv",
        "colab_type": "code",
        "outputId": "3554cb53-af19-47d8-e264-341e819d8890",
        "colab": {
          "base_uri": "https://localhost:8080/",
          "height": 380
        }
      },
      "cell_type": "code",
      "source": [
        "#@title Run LDA\n",
        "\n",
        "topics = 2 #@param {type:\"integer\"}\n",
        "\n",
        "alpha = 0.1 #@param {type:\"number\"}\n",
        "\n",
        "beta = 0.01 #@param {type:\"number\"}\n",
        "\n",
        "no_top_words = 10\n",
        "\n",
        "no_top_documents = 3\n",
        "\n",
        "\n",
        "# Run LDA\n",
        "lda_model = LatentDirichletAllocation(\n",
        "    n_components=topics, \n",
        "    doc_topic_prior=alpha, \n",
        "    topic_word_prior=beta, \n",
        "    max_iter=100, \n",
        "    learning_method='online', \n",
        "    learning_offset=50.,\n",
        "    random_state=0).fit(tf)\n",
        "lda_W = lda_model.transform(tf)\n",
        "lda_H = lda_model.components_\n",
        "\n",
        "print(\"LDA Topics\")\n",
        "for topic_idx, topic in enumerate(lda_H):\n",
        "    print(\"-\"*30)\n",
        "    print(\" Topic \",(topic_idx),\" :\")\n",
        "    print(\"[\",\" | \".join([tf_feature_names[i]\n",
        "                    for i in topic.argsort()[:-no_top_words - 1:-1]]),\"]\")\n",
        "    top_doc_indices = np.argsort( lda_W[:,topic_idx] )[::-1][0:no_top_documents]\n",
        "    for doc_index in top_doc_indices:\n",
        "        print(\"[\",doc_index,\"] (\",rows[doc_index-1][0],\") \\'\",rows[doc_index-1][1],\"\\'\")\n",
        "        print(\"\\t\",lda_W[doc_index])\n",
        "            \n",
        "#display_topics(lda_H, lda_W, tf_feature_names, documents, no_top_words, no_top_documents)\n"
      ],
      "execution_count": 115,
      "outputs": [
        {
          "output_type": "stream",
          "text": [
            "LDA Topics\n",
            "------------------------------\n",
            " Topic  0  :\n",
            "[ will | for | is | The | be | on | as | that | with | are ]\n",
            "[ 36 ] ( EU100035 ) ' GLObal Robotic telescopes Intelligent Array for e-Science '\n",
            "\t [9.99673416e-01 3.26583934e-04]\n",
            "[ 35 ] ( EU100034 ) ' Trans-Atlantic Research and Education Agenda in System of Systems '\n",
            "\t [9.99656593e-01 3.43406595e-04]\n",
            "[ 27 ] ( EU100026 ) ' Quantitative Graph Games: Theory and Applications '\n",
            "\t [9.99629904e-01 3.70096227e-04]\n",
            "------------------------------\n",
            " Topic  1  :\n",
            "[ will | for | The | as | is | be | on | by | are | that ]\n",
            "[ 21 ] ( EU100020 ) ' The importance of submarine groundwater discharge for the southwestern Baltic Sea '\n",
            "\t [0.99804687 0.00195313]\n",
            "[ 67 ] ( EU100068 ) ' A Treatment-Oriented Research Project of NCL Disorders as a Major Cause of Dementia in Childhood '\n",
            "\t [0.99841772 0.00158228]\n",
            "[ 80 ] ( EU100081 ) ' Comprehensive European Approach to the Protection of Civil Aviation '\n",
            "\t [0.99859551 0.00140449]\n"
          ],
          "name": "stdout"
        }
      ]
    },
    {
      "metadata": {
        "id": "DCaHdcQAnIPL",
        "colab_type": "code",
        "colab": {
          "base_uri": "https://localhost:8080/",
          "height": 357
        },
        "outputId": "0dc9ed1d-db4d-4b1e-f627-338b99edbaeb"
      },
      "cell_type": "code",
      "source": [
        "#@title Term Frequencies\n",
        "s = tf.toarray().sum(axis=0)\n",
        "st = sorted(range(len(s)), key=lambda k: s[k], reverse=True)\n",
        "for i,x in enumerate(st[:20]):\n",
        "  print(tf_vectorizer.get_feature_names()[x],s[x])"
      ],
      "execution_count": 108,
      "outputs": [
        {
          "output_type": "stream",
          "text": [
            "technology 70\n",
            "model 66\n",
            "approach 62\n",
            "application 53\n",
            "provide 53\n",
            "need 51\n",
            "base 50\n",
            "challenge 47\n",
            "propose 47\n",
            "development 46\n",
            "support 46\n",
            "europe 45\n",
            "cell 44\n",
            "focus 43\n",
            "activity 41\n",
            "tool 40\n",
            "area 39\n",
            "energy 39\n",
            "service 39\n",
            "analysis 38\n"
          ],
          "name": "stdout"
        }
      ]
    },
    {
      "metadata": {
        "id": "80GMbeBiV9T7",
        "colab_type": "text"
      },
      "cell_type": "markdown",
      "source": [
        "Get Topic Distributions:\n"
      ]
    },
    {
      "metadata": {
        "id": "_BFnUvDbWBGU",
        "colab_type": "code",
        "outputId": "1f4422c4-8382-4382-fdce-7022d7d8428d",
        "colab": {
          "base_uri": "https://localhost:8080/",
          "height": 1700
        }
      },
      "cell_type": "code",
      "source": [
        "#@title Topic Distributions\n",
        "for i,v in enumerate(lda_W):\n",
        "  print(rows[i][0],\":\",v)\n"
      ],
      "execution_count": 88,
      "outputs": [
        {
          "output_type": "stream",
          "text": [
            "EU100000 : [5.54323736e-04 5.54323735e-04 5.54323728e-04 9.98337029e-01]\n",
            "EU100001 : [6.15763563e-04 9.98152709e-01 6.15763558e-04 6.15763558e-04]\n",
            "EU100002 : [5.54323737e-04 9.98337029e-01 5.54323735e-04 5.54323738e-04]\n",
            "EU100003 : [9.97863248e-01 7.12250723e-04 7.12250728e-04 7.12250719e-04]\n",
            "EU100004 : [9.98218527e-01 5.93824241e-04 5.93824245e-04 5.93824238e-04]\n",
            "EU100005 : [6.15763554e-04 6.15763554e-04 9.98152709e-01 6.15763553e-04]\n",
            "EU100006 : [6.00961556e-04 9.98197115e-01 6.00961571e-04 6.00961546e-04]\n",
            "EU100007 : [9.98218527e-01 5.93824243e-04 5.93824235e-04 5.93824241e-04]\n",
            "EU100008 : [4.89236802e-04 9.98532290e-01 4.89236800e-04 4.89236800e-04]\n",
            "EU100009 : [5.04032264e-04 9.98487903e-01 5.04032262e-04 5.04032267e-04]\n",
            "EU100010 : [9.98502994e-01 4.99002009e-04 4.99002000e-04 4.99002005e-04]\n",
            "EU100011 : [7.44047634e-04 9.97767857e-01 7.44047633e-04 7.44047630e-04]\n",
            "EU100012 : [6.15763555e-04 9.98152709e-01 6.15763561e-04 6.15763556e-04]\n",
            "EU100013 : [5.60538126e-04 5.60538127e-04 5.60538122e-04 9.98318386e-01]\n",
            "EU100014 : [0.22743743 0.77013538 0.00121359 0.00121359]\n",
            "EU100015 : [6.31313144e-04 6.31313145e-04 6.31313142e-04 9.98106061e-01]\n",
            "EU100016 : [5.80046416e-04 9.98259861e-01 5.80046414e-04 5.80046415e-04]\n",
            "EU100017 : [5.66893430e-04 5.66893433e-04 9.98299320e-01 5.66893435e-04]\n",
            "EU100018 : [6.83060120e-04 6.83060137e-04 6.83060118e-04 9.97950820e-01]\n",
            "EU100019 : [0.27203485 0.00124378 0.2805806  0.44614077]\n",
            "EU100020 : [0.00101626 0.00101626 0.99695122 0.00101626]\n",
            "EU100021 : [0.15130085 0.84456692 0.00206612 0.00206612]\n",
            "EU100022 : [9.98239437e-01 5.86854472e-04 5.86854473e-04 5.86854475e-04]\n",
            "EU100023 : [9.98472505e-01 5.09164983e-04 5.09164978e-04 5.09164979e-04]\n",
            "EU100024 : [9.97950820e-01 6.83060128e-04 6.83060117e-04 6.83060123e-04]\n",
            "EU100025 : [5.54323741e-04 9.98337029e-01 5.54323736e-04 5.54323732e-04]\n",
            "EU100026 : [7.44047638e-04 8.30952243e-01 1.67559662e-01 7.44047641e-04]\n",
            "EU100027 : [3.84024583e-04 9.98847926e-01 3.84024583e-04 3.84024585e-04]\n",
            "EU100028 : [5.73394503e-04 5.73394501e-04 5.73394500e-04 9.98279816e-01]\n",
            "EU100029 : [5.14403308e-04 9.98456790e-01 5.14403297e-04 5.14403302e-04]\n",
            "EU100030 : [4.89236801e-04 9.98532290e-01 4.89236794e-04 4.89236802e-04]\n",
            "EU100031 : [6.00961552e-04 9.98197115e-01 6.00961542e-04 6.00961547e-04]\n",
            "EU100032 : [5.42299357e-04 9.98373102e-01 5.42299361e-04 5.42299360e-04]\n",
            "EU100033 : [4.89236800e-04 9.98532290e-01 4.89236798e-04 4.89236800e-04]\n",
            "EU100034 : [9.98299320e-01 5.66893457e-04 5.66893432e-04 5.66893435e-04]\n",
            "EU100035 : [3.22164955e-04 9.99033505e-01 3.22164953e-04 3.22164956e-04]\n",
            "EU100036 : [3.20102438e-04 9.99039693e-01 3.20102436e-04 3.20102438e-04]\n",
            "EU100037 : [5.66893433e-04 5.66893432e-04 5.66893431e-04 9.98299320e-01]\n",
            "EU100038 : [5.93824244e-04 9.98218527e-01 5.93824231e-04 5.93824236e-04]\n",
            "EU100039 : [9.96015953e-04 9.96015947e-04 9.97011952e-01 9.96015950e-04]\n",
            "EU100040 : [0.00101626 0.00101626 0.00101626 0.99695122]\n",
            "EU100041 : [0.60807721 0.39061045 0.00065617 0.00065617]\n",
            "EU100042 : [5.54323730e-04 5.54323731e-04 9.98337029e-01 5.54323728e-04]\n",
            "EU100043 : [9.98081841e-01 6.39386201e-04 6.39386200e-04 6.39386206e-04]\n",
            "EU100044 : [5.80152311e-01 4.18786118e-01 5.30785572e-04 5.30785570e-04]\n",
            "EU100045 : [9.98152709e-01 6.15763557e-04 6.15763561e-04 6.15763552e-04]\n",
            "EU100046 : [5.04032267e-04 9.98487903e-01 5.04032267e-04 5.04032264e-04]\n",
            "EU100047 : [5.48245623e-04 9.98355263e-01 5.48245625e-04 5.48245626e-04]\n",
            "EU100048 : [6.23441414e-04 6.23441407e-04 6.23441409e-04 9.98129676e-01]\n",
            "EU100049 : [5.14403302e-04 9.98456790e-01 5.14403300e-04 5.14403303e-04]\n",
            "EU100051 : [5.42299360e-04 8.63301137e-01 5.42299362e-04 1.35614264e-01]\n",
            "EU100052 : [0.00101626 0.00101626 0.00101626 0.99695122]\n",
            "EU100054 : [4.09165317e-04 9.98772504e-01 4.09165313e-04 4.09165312e-04]\n",
            "EU100055 : [6.00961550e-04 6.00961556e-04 6.00961542e-04 9.98197115e-01]\n",
            "EU100056 : [4.89236795e-04 4.89236796e-04 4.89236795e-04 9.98532290e-01]\n",
            "EU100057 : [6.23441410e-04 1.99448670e-01 6.23441421e-04 7.99304447e-01]\n",
            "EU100058 : [5.36480693e-04 5.36480695e-04 5.36480693e-04 9.98390558e-01]\n",
            "EU100059 : [4.34027782e-04 9.98697917e-01 4.34027783e-04 4.34027784e-04]\n",
            "EU100060 : [9.97588424e-01 8.03858540e-04 8.03858541e-04 8.03858536e-04]\n",
            "EU100061 : [8.03858534e-04 8.03858535e-04 8.03858538e-04 9.97588424e-01]\n",
            "EU100062 : [5.73394512e-04 5.73394514e-04 5.73394509e-04 9.98279816e-01]\n",
            "EU100063 : [9.98031496e-01 6.56167991e-04 6.56167990e-04 6.56167985e-04]\n",
            "EU100064 : [0.40771312 0.59090184 0.00069252 0.00069252]\n",
            "EU100065 : [5.25210091e-04 5.25210092e-04 9.98424370e-01 5.25210088e-04]\n",
            "EU100066 : [6.00961556e-04 8.84833402e-01 6.00961549e-04 1.13964675e-01]\n",
            "EU100067 : [9.98279816e-01 5.73394505e-04 5.73394505e-04 5.73394513e-04]\n",
            "EU100068 : [7.94031628e-01 5.54323735e-04 2.04859724e-01 5.54323741e-04]\n",
            "EU100069 : [0.99503311 0.00165563 0.00165563 0.00165563]\n",
            "EU100070 : [9.98175182e-01 6.08272522e-04 6.08272511e-04 6.08272516e-04]\n",
            "EU100071 : [5.54323731e-04 5.54323736e-04 5.54323734e-04 9.98337029e-01]\n",
            "EU100072 : [5.42299363e-04 9.98373102e-01 5.42299356e-04 5.42299365e-04]\n",
            "EU100073 : [9.97922438e-01 6.92520790e-04 6.92520785e-04 6.92520788e-04]\n",
            "EU100074 : [9.41531626e-01 6.00961549e-04 6.00961546e-04 5.72664506e-02]\n",
            "EU100075 : [6.08272522e-04 9.98175182e-01 6.08272514e-04 6.08272513e-04]\n",
            "EU100076 : [5.14403299e-04 9.98456790e-01 5.14403301e-04 5.14403297e-04]\n",
            "EU100077 : [4.23011855e-04 9.98730964e-01 4.23011850e-04 4.23011851e-04]\n",
            "EU100078 : [5.25210096e-04 5.25210098e-04 5.25210089e-04 9.98424370e-01]\n",
            "EU100079 : [5.42299358e-04 9.98373102e-01 5.42299357e-04 5.42299355e-04]\n",
            "EU100080 : [6.49398576e-01 3.49710158e-01 4.45632806e-04 4.45632802e-04]\n",
            "EU100081 : [6.47668415e-04 9.98056995e-01 6.47668403e-04 6.47668400e-04]\n",
            "EU100082 : [0.99652778 0.00115741 0.00115741 0.00115741]\n",
            "EU100083 : [9.97282609e-01 9.05797114e-04 9.05797111e-04 9.05797117e-04]\n",
            "EU100084 : [0.00056689 0.5607995  0.00056689 0.43806672]\n",
            "EU100085 : [0.32987211 0.66870339 0.00071225 0.00071225]\n",
            "EU100086 : [4.45632806e-04 9.98663102e-01 4.45632804e-04 4.45632811e-04]\n",
            "EU100087 : [5.93824239e-04 5.93824236e-04 9.98218527e-01 5.93824236e-04]\n",
            "EU100088 : [5.04032267e-04 9.98487903e-01 5.04032263e-04 5.04032266e-04]\n",
            "EU100089 : [0.00101626 0.00101626 0.99695122 0.00101626]\n",
            "EU100090 : [8.74125888e-04 1.76291011e-02 8.74125887e-04 9.80622647e-01]\n",
            "EU100091 : [5.54323747e-04 8.14224314e-01 5.54323738e-04 1.84667038e-01]\n",
            "EU100092 : [6.08272518e-04 6.08272520e-04 6.08272519e-04 9.98175182e-01]\n",
            "EU100093 : [6.73854458e-04 6.73854456e-04 6.73854455e-04 9.97978437e-01]\n",
            "EU100094 : [4.75285185e-04 9.98574144e-01 4.75285176e-04 4.75285179e-04]\n",
            "EU100095 : [4.57875467e-04 9.98626374e-01 4.57875470e-04 4.57875467e-04]\n",
            "EU100096 : [5.36480699e-04 9.98390558e-01 5.36480694e-04 5.36480696e-04]\n",
            "EU100097 : [4.41696119e-04 9.98674912e-01 4.41696119e-04 4.41696120e-04]\n",
            "EU100098 : [4.57875465e-04 9.98626374e-01 4.57875463e-04 4.57875462e-04]\n",
            "EU100099 : [7.44047626e-04 9.97767857e-01 7.44047625e-04 7.44047627e-04]\n",
            "EU100100 : [4.26621166e-04 9.98720137e-01 4.26621162e-04 4.26621172e-04]\n"
          ],
          "name": "stdout"
        }
      ]
    },
    {
      "metadata": {
        "id": "vtzhJ6BZNQ2z",
        "colab_type": "text"
      },
      "cell_type": "markdown",
      "source": [
        "Get topics for a given  sample:"
      ]
    },
    {
      "metadata": {
        "id": "S4zVOinlMBRR",
        "colab_type": "code",
        "colab": {
          "base_uri": "https://localhost:8080/",
          "height": 34
        },
        "outputId": "f2853000-e335-45a0-9829-ffe97d3c54b7"
      },
      "cell_type": "code",
      "source": [
        "#@title Topic Inference\n",
        "\n",
        "text = \"It\\u2019s amazing how much can be achieved with just 36 lines of Python code and some Scikit Learn magic. The full code listing is provided below\" #@param {type:\"string\"}\n",
        "\n",
        "print(\"Topic Distribution: \", lda_model.transform(tf_vectorizer.transform([text])))\n"
      ],
      "execution_count": 116,
      "outputs": [
        {
          "output_type": "stream",
          "text": [
            "Topic Distribution:  [[0.99242424 0.00757576]]\n"
          ],
          "name": "stdout"
        }
      ]
    }
  ]
}